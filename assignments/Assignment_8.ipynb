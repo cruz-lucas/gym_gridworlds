{
 "cells": [
  {
   "cell_type": "code",
   "execution_count": 8,
   "metadata": {},
   "outputs": [
    {
     "name": "stderr",
     "output_type": "stream",
     "text": [
      "/Users/lucruz/Documents/GitHub/gym_gridworlds/.venv/lib/python3.11/site-packages/gymnasium/spaces/box.py:235: UserWarning: \u001b[33mWARN: Box low's precision lowered by casting to float32, current low.dtype=float64\u001b[0m\n",
      "  gym.logger.warn(\n"
     ]
    },
    {
     "data": {
      "application/vnd.jupyter.widget-view+json": {
       "model_id": "a89a04f4ac2b4709b4645a1bd8c46c60",
       "version_major": 2,
       "version_minor": 0
      },
      "text/plain": [
       "  0%|          | 0/100000 [00:00<?, ?it/s]"
      ]
     },
     "metadata": {},
     "output_type": "display_data"
    },
    {
     "name": "stderr",
     "output_type": "stream",
     "text": [
      "/var/folders/sd/s3_0xg3x0tlfrc5189jz9r100000gp/T/ipykernel_50035/1369200013.py:134: DeprecationWarning: Conversion of an array with ndim > 0 to a scalar is deprecated, and will error in future. Ensure you extract a single element from your array before performing this operation. (Deprecated NumPy 1.25.)\n",
      "  dlog_pi = dlog_softmax_probs(phi[t:t+1], weights, eps, int(actions[t]))\n",
      "\n",
      "\u001b[A"
     ]
    },
    {
     "name": "stdout",
     "output_type": "stream",
     "text": [
      "Baseline: none, Seed: 0\n"
     ]
    },
    {
     "data": {
      "application/vnd.jupyter.widget-view+json": {
       "model_id": "d65609a3c6964a6aa6ae0d15f5c48f61",
       "version_major": 2,
       "version_minor": 0
      },
      "text/plain": [
       "  0%|          | 0/100000 [00:00<?, ?it/s]"
      ]
     },
     "metadata": {},
     "output_type": "display_data"
    },
    {
     "name": "stdout",
     "output_type": "stream",
     "text": [
      "Baseline: none, Seed: 1\n"
     ]
    },
    {
     "data": {
      "application/vnd.jupyter.widget-view+json": {
       "model_id": "704b8e60f30b41ddadfac8eb30a8d35a",
       "version_major": 2,
       "version_minor": 0
      },
      "text/plain": [
       "  0%|          | 0/100000 [00:00<?, ?it/s]"
      ]
     },
     "metadata": {},
     "output_type": "display_data"
    },
    {
     "name": "stdout",
     "output_type": "stream",
     "text": [
      "Baseline: none, Seed: 2\n"
     ]
    },
    {
     "data": {
      "application/vnd.jupyter.widget-view+json": {
       "model_id": "e22437d6d9ba445295104386799b8919",
       "version_major": 2,
       "version_minor": 0
      },
      "text/plain": [
       "  0%|          | 0/100000 [00:00<?, ?it/s]"
      ]
     },
     "metadata": {},
     "output_type": "display_data"
    },
    {
     "name": "stdout",
     "output_type": "stream",
     "text": [
      "Baseline: none, Seed: 3\n"
     ]
    },
    {
     "data": {
      "application/vnd.jupyter.widget-view+json": {
       "model_id": "f42a52157ee34f07b8e0a14b5e22841e",
       "version_major": 2,
       "version_minor": 0
      },
      "text/plain": [
       "  0%|          | 0/100000 [00:00<?, ?it/s]"
      ]
     },
     "metadata": {},
     "output_type": "display_data"
    },
    {
     "name": "stdout",
     "output_type": "stream",
     "text": [
      "Baseline: none, Seed: 4\n"
     ]
    },
    {
     "data": {
      "application/vnd.jupyter.widget-view+json": {
       "model_id": "14a33ad67fc5494097390645ebbf58a3",
       "version_major": 2,
       "version_minor": 0
      },
      "text/plain": [
       "  0%|          | 0/100000 [00:00<?, ?it/s]"
      ]
     },
     "metadata": {},
     "output_type": "display_data"
    },
    {
     "name": "stdout",
     "output_type": "stream",
     "text": [
      "Baseline: none, Seed: 5\n"
     ]
    },
    {
     "data": {
      "application/vnd.jupyter.widget-view+json": {
       "model_id": "5ddd6dbd3e094293b64db5ffd9deb211",
       "version_major": 2,
       "version_minor": 0
      },
      "text/plain": [
       "  0%|          | 0/100000 [00:00<?, ?it/s]"
      ]
     },
     "metadata": {},
     "output_type": "display_data"
    },
    {
     "name": "stdout",
     "output_type": "stream",
     "text": [
      "Baseline: none, Seed: 6\n"
     ]
    },
    {
     "data": {
      "application/vnd.jupyter.widget-view+json": {
       "model_id": "134f0a18c6ab4c18811560a71f1c5cc6",
       "version_major": 2,
       "version_minor": 0
      },
      "text/plain": [
       "  0%|          | 0/100000 [00:00<?, ?it/s]"
      ]
     },
     "metadata": {},
     "output_type": "display_data"
    },
    {
     "name": "stdout",
     "output_type": "stream",
     "text": [
      "Baseline: none, Seed: 7\n"
     ]
    },
    {
     "data": {
      "application/vnd.jupyter.widget-view+json": {
       "model_id": "18e69bb040834ed48bf627379eacc9b8",
       "version_major": 2,
       "version_minor": 0
      },
      "text/plain": [
       "  0%|          | 0/100000 [00:00<?, ?it/s]"
      ]
     },
     "metadata": {},
     "output_type": "display_data"
    },
    {
     "name": "stdout",
     "output_type": "stream",
     "text": [
      "Baseline: none, Seed: 8\n"
     ]
    },
    {
     "data": {
      "application/vnd.jupyter.widget-view+json": {
       "model_id": "8497708ee40c4b7788ed9daa7588616f",
       "version_major": 2,
       "version_minor": 0
      },
      "text/plain": [
       "  0%|          | 0/100000 [00:00<?, ?it/s]"
      ]
     },
     "metadata": {},
     "output_type": "display_data"
    },
    {
     "name": "stdout",
     "output_type": "stream",
     "text": [
      "Baseline: none, Seed: 9\n"
     ]
    },
    {
     "data": {
      "application/vnd.jupyter.widget-view+json": {
       "model_id": "444b78146bac40d6bfef625340419ea3",
       "version_major": 2,
       "version_minor": 0
      },
      "text/plain": [
       "  0%|          | 0/100000 [00:00<?, ?it/s]"
      ]
     },
     "metadata": {},
     "output_type": "display_data"
    },
    {
     "name": "stdout",
     "output_type": "stream",
     "text": [
      "Baseline: mean_return, Seed: 0\n"
     ]
    },
    {
     "data": {
      "application/vnd.jupyter.widget-view+json": {
       "model_id": "be2f509d4d99444f8c30a6b2e0bbc90a",
       "version_major": 2,
       "version_minor": 0
      },
      "text/plain": [
       "  0%|          | 0/100000 [00:00<?, ?it/s]"
      ]
     },
     "metadata": {},
     "output_type": "display_data"
    },
    {
     "name": "stdout",
     "output_type": "stream",
     "text": [
      "Baseline: mean_return, Seed: 1\n"
     ]
    },
    {
     "data": {
      "application/vnd.jupyter.widget-view+json": {
       "model_id": "c6023d6c732147ed976a850d529737cb",
       "version_major": 2,
       "version_minor": 0
      },
      "text/plain": [
       "  0%|          | 0/100000 [00:00<?, ?it/s]"
      ]
     },
     "metadata": {},
     "output_type": "display_data"
    },
    {
     "name": "stdout",
     "output_type": "stream",
     "text": [
      "Baseline: mean_return, Seed: 2\n"
     ]
    },
    {
     "data": {
      "application/vnd.jupyter.widget-view+json": {
       "model_id": "4bf2a0137c0f4687ba906e8fcccce6e9",
       "version_major": 2,
       "version_minor": 0
      },
      "text/plain": [
       "  0%|          | 0/100000 [00:00<?, ?it/s]"
      ]
     },
     "metadata": {},
     "output_type": "display_data"
    },
    {
     "name": "stdout",
     "output_type": "stream",
     "text": [
      "Baseline: mean_return, Seed: 3\n"
     ]
    },
    {
     "data": {
      "application/vnd.jupyter.widget-view+json": {
       "model_id": "7fec2420b1ba4c2ebf4851c165ced91a",
       "version_major": 2,
       "version_minor": 0
      },
      "text/plain": [
       "  0%|          | 0/100000 [00:00<?, ?it/s]"
      ]
     },
     "metadata": {},
     "output_type": "display_data"
    },
    {
     "name": "stdout",
     "output_type": "stream",
     "text": [
      "Baseline: mean_return, Seed: 4\n"
     ]
    },
    {
     "data": {
      "application/vnd.jupyter.widget-view+json": {
       "model_id": "8bf74dd962df4cdbb423cf97b7fdfc59",
       "version_major": 2,
       "version_minor": 0
      },
      "text/plain": [
       "  0%|          | 0/100000 [00:00<?, ?it/s]"
      ]
     },
     "metadata": {},
     "output_type": "display_data"
    },
    {
     "name": "stdout",
     "output_type": "stream",
     "text": [
      "Baseline: mean_return, Seed: 5\n"
     ]
    },
    {
     "data": {
      "application/vnd.jupyter.widget-view+json": {
       "model_id": "10232ebb12e34161aa3a7ba7e3d5b49c",
       "version_major": 2,
       "version_minor": 0
      },
      "text/plain": [
       "  0%|          | 0/100000 [00:00<?, ?it/s]"
      ]
     },
     "metadata": {},
     "output_type": "display_data"
    },
    {
     "name": "stdout",
     "output_type": "stream",
     "text": [
      "Baseline: mean_return, Seed: 6\n"
     ]
    },
    {
     "data": {
      "application/vnd.jupyter.widget-view+json": {
       "model_id": "77acf619c6f746358e29da85fed98e3b",
       "version_major": 2,
       "version_minor": 0
      },
      "text/plain": [
       "  0%|          | 0/100000 [00:00<?, ?it/s]"
      ]
     },
     "metadata": {},
     "output_type": "display_data"
    },
    {
     "name": "stdout",
     "output_type": "stream",
     "text": [
      "Baseline: mean_return, Seed: 7\n"
     ]
    },
    {
     "data": {
      "application/vnd.jupyter.widget-view+json": {
       "model_id": "c32ae910c0774826b87ddee20a191f19",
       "version_major": 2,
       "version_minor": 0
      },
      "text/plain": [
       "  0%|          | 0/100000 [00:00<?, ?it/s]"
      ]
     },
     "metadata": {},
     "output_type": "display_data"
    },
    {
     "name": "stdout",
     "output_type": "stream",
     "text": [
      "Baseline: mean_return, Seed: 8\n"
     ]
    },
    {
     "data": {
      "application/vnd.jupyter.widget-view+json": {
       "model_id": "9fc23dac1c4345359bbb5ed42614a551",
       "version_major": 2,
       "version_minor": 0
      },
      "text/plain": [
       "  0%|          | 0/100000 [00:00<?, ?it/s]"
      ]
     },
     "metadata": {},
     "output_type": "display_data"
    },
    {
     "name": "stdout",
     "output_type": "stream",
     "text": [
      "Baseline: mean_return, Seed: 9\n"
     ]
    },
    {
     "data": {
      "application/vnd.jupyter.widget-view+json": {
       "model_id": "15ab46f99d424bd7b2bc2b504893ec60",
       "version_major": 2,
       "version_minor": 0
      },
      "text/plain": [
       "  0%|          | 0/100000 [00:00<?, ?it/s]"
      ]
     },
     "metadata": {},
     "output_type": "display_data"
    },
    {
     "name": "stdout",
     "output_type": "stream",
     "text": [
      "Baseline: min_variance, Seed: 0\n"
     ]
    },
    {
     "data": {
      "application/vnd.jupyter.widget-view+json": {
       "model_id": "9d91358f46634ec6a6ff64c1cd7220a1",
       "version_major": 2,
       "version_minor": 0
      },
      "text/plain": [
       "  0%|          | 0/100000 [00:00<?, ?it/s]"
      ]
     },
     "metadata": {},
     "output_type": "display_data"
    },
    {
     "name": "stdout",
     "output_type": "stream",
     "text": [
      "Baseline: min_variance, Seed: 1\n"
     ]
    },
    {
     "data": {
      "application/vnd.jupyter.widget-view+json": {
       "model_id": "8f7530fdb03d42a0a03a2f3311b90d63",
       "version_major": 2,
       "version_minor": 0
      },
      "text/plain": [
       "  0%|          | 0/100000 [00:00<?, ?it/s]"
      ]
     },
     "metadata": {},
     "output_type": "display_data"
    },
    {
     "name": "stdout",
     "output_type": "stream",
     "text": [
      "Baseline: min_variance, Seed: 2\n"
     ]
    },
    {
     "data": {
      "application/vnd.jupyter.widget-view+json": {
       "model_id": "bb1d782eed3c4391900fb47e28236f65",
       "version_major": 2,
       "version_minor": 0
      },
      "text/plain": [
       "  0%|          | 0/100000 [00:00<?, ?it/s]"
      ]
     },
     "metadata": {},
     "output_type": "display_data"
    },
    {
     "name": "stdout",
     "output_type": "stream",
     "text": [
      "Baseline: min_variance, Seed: 3\n"
     ]
    },
    {
     "data": {
      "application/vnd.jupyter.widget-view+json": {
       "model_id": "bab3379feb67479a89222b217067cfd9",
       "version_major": 2,
       "version_minor": 0
      },
      "text/plain": [
       "  0%|          | 0/100000 [00:00<?, ?it/s]"
      ]
     },
     "metadata": {},
     "output_type": "display_data"
    },
    {
     "name": "stdout",
     "output_type": "stream",
     "text": [
      "Baseline: min_variance, Seed: 4\n"
     ]
    },
    {
     "data": {
      "application/vnd.jupyter.widget-view+json": {
       "model_id": "a9dd83f1865743828ba5121d94271c65",
       "version_major": 2,
       "version_minor": 0
      },
      "text/plain": [
       "  0%|          | 0/100000 [00:00<?, ?it/s]"
      ]
     },
     "metadata": {},
     "output_type": "display_data"
    },
    {
     "name": "stdout",
     "output_type": "stream",
     "text": [
      "Baseline: min_variance, Seed: 5\n"
     ]
    },
    {
     "data": {
      "application/vnd.jupyter.widget-view+json": {
       "model_id": "5a3af049959f492a816345530a1db40c",
       "version_major": 2,
       "version_minor": 0
      },
      "text/plain": [
       "  0%|          | 0/100000 [00:00<?, ?it/s]"
      ]
     },
     "metadata": {},
     "output_type": "display_data"
    },
    {
     "name": "stdout",
     "output_type": "stream",
     "text": [
      "Baseline: min_variance, Seed: 6\n"
     ]
    },
    {
     "data": {
      "application/vnd.jupyter.widget-view+json": {
       "model_id": "19a1b50cfea5410b8b63cf7f99e4bb98",
       "version_major": 2,
       "version_minor": 0
      },
      "text/plain": [
       "  0%|          | 0/100000 [00:00<?, ?it/s]"
      ]
     },
     "metadata": {},
     "output_type": "display_data"
    },
    {
     "name": "stdout",
     "output_type": "stream",
     "text": [
      "Baseline: min_variance, Seed: 7\n"
     ]
    },
    {
     "data": {
      "application/vnd.jupyter.widget-view+json": {
       "model_id": "75fe29587a2343538184ab46e605d665",
       "version_major": 2,
       "version_minor": 0
      },
      "text/plain": [
       "  0%|          | 0/100000 [00:00<?, ?it/s]"
      ]
     },
     "metadata": {},
     "output_type": "display_data"
    },
    {
     "name": "stdout",
     "output_type": "stream",
     "text": [
      "Baseline: min_variance, Seed: 8\n"
     ]
    },
    {
     "data": {
      "application/vnd.jupyter.widget-view+json": {
       "model_id": "f2b5e6cd9d8f42bfb3258f9567f57df5",
       "version_major": 2,
       "version_minor": 0
      },
      "text/plain": [
       "  0%|          | 0/100000 [00:00<?, ?it/s]"
      ]
     },
     "metadata": {},
     "output_type": "display_data"
    },
    {
     "name": "stdout",
     "output_type": "stream",
     "text": [
      "Baseline: min_variance, Seed: 9\n"
     ]
    },
    {
     "data": {
      "image/png": "[encoded data removed]",
      "text/plain": [
       "<Figure size 640x480 with 1 Axes>"
      ]
     },
     "metadata": {},
     "output_type": "display_data"
    }
   ],
   "source": [
    "import gymnasium\n",
    "import gym_gridworlds\n",
    "import numpy as np\n",
    "import matplotlib.pyplot as plt\n",
    "from tqdm.auto import tqdm\n",
    "\n",
    "np.set_printoptions(precision=3, suppress=True)\n",
    "\n",
    "# https://en.wikipedia.org/wiki/Pairing_function\n",
    "def cantor_pairing(x, y):\n",
    "    return int(0.5 * (x + y) * (x + y + 1) + y)\n",
    "\n",
    "def rbf_features(x: np.array, c: np.array, s: np.array) -> np.array:\n",
    "    return np.exp(-(((x[:, None] - c[None]) / s[None])**2).sum(-1) / 2.0)\n",
    "\n",
    "def expected_return(env, weights, gamma, episodes=100):\n",
    "    G = np.zeros(episodes)\n",
    "    for e in range(episodes):\n",
    "        s, _ = env.reset(seed=e)\n",
    "        done = False\n",
    "        t = 0\n",
    "        while not done:\n",
    "            phi = get_phi(s)\n",
    "            if env_id == \"Pendulum-v1\":\n",
    "                a = np.dot(phi, weights)\n",
    "                a_clip = np.clip(a, env.action_space.low, env.action_space.high)\n",
    "                s_next, r, terminated, truncated, _ = env.step(a_clip)\n",
    "            else:\n",
    "                q = np.dot(phi, weights).ravel() # no need for the eps_greedy_action func since eps=0\n",
    "                ties = np.argwhere(q == q.max())\n",
    "                i = np.random.choice(range(ties.shape[0]))\n",
    "                a = ties[i][0]\n",
    "                s_next, r, terminated, truncated, _ = env.step(a)\n",
    "            done = terminated or truncated\n",
    "            G[e] += gamma**t * r\n",
    "            s = s_next\n",
    "            t += 1\n",
    "    return G.mean()\n",
    "\n",
    "def collect_data(env, weights, sigma, n_episodes):\n",
    "    data = dict()\n",
    "    data[\"phi\"] = []\n",
    "    data[\"a\"] = []\n",
    "    data[\"r\"] = []\n",
    "    data[\"done\"] = []\n",
    "    for ep in range(n_episodes):\n",
    "        episode_seed = cantor_pairing(ep, seed)\n",
    "        s, _ = env.reset(seed=episode_seed)\n",
    "        done = False\n",
    "        while not done:\n",
    "            phi = get_phi(s)\n",
    "            if env_id == \"Pendulum-v1\":\n",
    "                a = gaussian_action(phi, weights, sigma)\n",
    "                a_clip = np.clip(a, env.action_space.low, env.action_space.high)\n",
    "                s_next, r, terminated, truncated, _ = env.step(a_clip)\n",
    "            else:\n",
    "                a = softmax_action(phi, weights, eps=1)\n",
    "                s_next, r, terminated, truncated, _ = env.step(a)\n",
    "            done = terminated or truncated\n",
    "            data[\"phi\"].append(phi)\n",
    "            data[\"a\"].append(a)\n",
    "            data[\"r\"].append(r)\n",
    "            data[\"done\"].append(done)\n",
    "            s = s_next\n",
    "    return data\n",
    "\n",
    "def softmax_probs(phi, weights, eps):\n",
    "    q = np.dot(phi, weights)\n",
    "    # this is a trick to make it more stable\n",
    "    # see https://timvieira.github.io/blog/post/2014/02/11/exp-normalize-trick/\n",
    "    q_exp = np.exp((q - np.max(q, -1, keepdims=True)) / max(eps, 1e-12))\n",
    "    probs = q_exp / q_exp.sum(-1, keepdims=True)\n",
    "    return probs\n",
    "\n",
    "def softmax_action(phi, weights, eps):\n",
    "    probs = softmax_probs(phi, weights, eps)\n",
    "    return np.random.choice(probs.shape[1], p=probs.ravel())\n",
    "\n",
    "def dlog_softmax_probs(phi, weights, eps, act):\n",
    "    q = np.dot(phi, weights)\n",
    "    q_exp = np.exp((q - np.max(q, -1, keepdims=True)) / max(eps, 1e-12))\n",
    "    probs = q_exp / q_exp.sum(-1, keepdims=True)\n",
    "    one_hot = np.zeros_like(probs)\n",
    "    one_hot[0, act] = 1\n",
    "    grad = (1 / eps) * phi.T @ (one_hot - probs)\n",
    "    return grad.flatten()\n",
    "\n",
    "def gaussian_action(phi, weights, sigma):\n",
    "    mu = np.dot(phi, weights)\n",
    "    a = np.random.normal(mu, sigma**2)\n",
    "    return a\n",
    "\n",
    "def dlog_gaussian_probs(phi, weights, sigma, action):\n",
    "    mu = np.dot(phi, weights)\n",
    "    diff = action - mu\n",
    "    grad = (diff / sigma**2) * phi.T\n",
    "    return grad.flatten()\n",
    "\n",
    "def reinforce(baseline=\"none\"):\n",
    "    weights = np.zeros((phi_dummy.shape[1], action_dim))\n",
    "    sigma = 2.0  # for Gaussian\n",
    "    eps = 1.0  # softmax temperature, DO NOT DECAY\n",
    "    tot_steps = 0\n",
    "    exp_return_history = np.zeros(max_steps)\n",
    "    exp_return = expected_return(env_eval, weights, gamma, episodes_eval)\n",
    "    pbar = tqdm(total=max_steps)\n",
    "\n",
    "    while tot_steps < max_steps:\n",
    "        # Collect data\n",
    "        data = collect_data(env, weights, sigma, episodes_per_update)\n",
    "        phi = np.vstack(data[\"phi\"])\n",
    "        actions = np.vstack(data[\"a\"])\n",
    "        rewards = np.vstack(data[\"r\"]).ravel()\n",
    "        dones = np.vstack(data[\"done\"]).ravel()\n",
    "        T = len(rewards)\n",
    "\n",
    "        # Compute MC returns\n",
    "        G = np.zeros_like(rewards)\n",
    "        G_t = 0\n",
    "        for t in reversed(range(T)):\n",
    "            if dones[t]:\n",
    "                G_t = 0\n",
    "            G_t = rewards[t] + gamma * G_t\n",
    "            G[t] = G_t\n",
    "\n",
    "        # compute gradients\n",
    "        grads = []\n",
    "        dlog_pi_norms_sq = []\n",
    "        for t in range(T):\n",
    "            if env_id == \"Pendulum-v1\":\n",
    "                dlog_pi = dlog_gaussian_probs(phi[t:t+1], weights, sigma, actions[t])\n",
    "            else:\n",
    "                dlog_pi = dlog_softmax_probs(phi[t:t+1], weights, eps, int(actions[t]))\n",
    "            grads.append(dlog_pi)\n",
    "            dlog_pi_norms_sq.append(np.sum(dlog_pi ** 2))\n",
    "        grads = np.array(grads)\n",
    "        dlog_pi_norms_sq = np.array(dlog_pi_norms_sq)\n",
    "\n",
    "        if baseline == \"none\":\n",
    "            b = 0\n",
    "        elif baseline == \"mean_return\":\n",
    "            b = np.mean(G)\n",
    "        elif baseline == \"min_variance\":\n",
    "            numerator = np.sum(dlog_pi_norms_sq * G)\n",
    "            denominator = np.sum(dlog_pi_norms_sq)\n",
    "            b = numerator / (denominator + 1e-8)\n",
    "        else:\n",
    "            raise ValueError(\"Unknown baseline type\")\n",
    "\n",
    "        A = G - b\n",
    "\n",
    "        gradient = grads * A[:, None]\n",
    "\n",
    "        # average gradient over all samples\n",
    "        grad_mean = gradient.mean(axis=0)\n",
    "\n",
    "        # Update weights\n",
    "        weights += alpha * grad_mean.reshape(weights.shape)\n",
    "\n",
    "        exp_return_history[tot_steps : tot_steps + T] = exp_return\n",
    "\n",
    "        tot_steps += T\n",
    "        exp_return = expected_return(env_eval, weights, gamma, episodes_eval)\n",
    "        sigma = max(sigma - T / max_steps, 0.1)\n",
    "\n",
    "        pbar.set_description(f\"G: {exp_return:.3f}\")\n",
    "        pbar.update(T)\n",
    "\n",
    "    pbar.close()\n",
    "    return exp_return_history\n",
    "\n",
    "# https://stackoverflow.com/a/63458548/754136\n",
    "def smooth(arr, span):\n",
    "    re = np.convolve(arr, np.ones(span * 2 + 1) / (span * 2 + 1), mode=\"same\")\n",
    "    re[0] = arr[0]\n",
    "    for i in range(1, span + 1):\n",
    "        re[i] = np.average(arr[: i + span])\n",
    "        re[-i] = np.average(arr[-i - span :])\n",
    "    return re\n",
    "\n",
    "def error_shade_plot(ax, data, stepsize, smoothing_window=1, **kwargs):\n",
    "    y = np.nanmean(data, 0)\n",
    "    x = np.arange(len(y))\n",
    "    x = [stepsize * step for step in range(len(y))]\n",
    "    if smoothing_window > 1:\n",
    "        y = smooth(y, smoothing_window)\n",
    "    (line,) = ax.plot(x, y, **kwargs)\n",
    "    error = np.nanstd(data, axis=0)\n",
    "    if smoothing_window > 1:\n",
    "        error = smooth(error, smoothing_window)\n",
    "    error = 1.96 * error / np.sqrt(data.shape[0])\n",
    "    ax.fill_between(x, y - error, y + error, alpha=0.2, linewidth=0.0, color=line.get_color())\n",
    "\n",
    "# Select the environment\n",
    "env_id = \"Pendulum-v1\"\n",
    "env = gymnasium.make(env_id)\n",
    "env_eval = gymnasium.make(env_id)\n",
    "episodes_eval = 100\n",
    "# You'll solve the Pendulum when the empirical expected return is higher than -150\n",
    "# But it can get even higher, e.g., -120\n",
    "state_dim = env.observation_space.shape[0]\n",
    "action_dim = env.action_space.shape[0]\n",
    "\n",
    "# UNCOMMENT TO SOLVE THE GRIDWORLD\n",
    "env_id = \"Gym-Gridworlds/Penalty-3x3-v0\"\n",
    "env = gymnasium.make(env_id, coordinate_observation=True, max_episode_steps=10000)\n",
    "env_eval = gymnasium.make(env_id, coordinate_observation=True, max_episode_steps=10)  # 10 steps only for faster eval\n",
    "episodes_eval = 1  # Max expected return will be 0.941\n",
    "state_dim = env.observation_space.shape[0]\n",
    "action_dim = env.action_space.n\n",
    "\n",
    "# Automatically set centers and sigmas\n",
    "n_centers = [7] * state_dim\n",
    "state_low = env.observation_space.low\n",
    "state_high = env.observation_space.high\n",
    "centers = np.array(\n",
    "    np.meshgrid(*[\n",
    "        np.linspace(\n",
    "            state_low[i] - (state_high[i] - state_low[i]) / n_centers[i] * 0.1,\n",
    "            state_high[i] + (state_high[i] - state_low[i]) / n_centers[i] * 0.1,\n",
    "            n_centers[i],\n",
    "        )\n",
    "        for i in range(state_dim)\n",
    "    ])\n",
    ").reshape(state_dim, -1).T\n",
    "sigmas = (state_high - state_low) / np.asarray(n_centers) * 0.75 + 1e-8  # Change sigmas for more/less generalization\n",
    "get_phi = lambda state : rbf_features(state.reshape(-1, state_dim), centers, sigmas)  # Reshape because feature functions expect shape (N, S)\n",
    "phi_dummy = get_phi(env.reset()[0])  # To get the number of features\n",
    "\n",
    "# Hyperparameters\n",
    "gamma = 0.99\n",
    "alpha = 0.1\n",
    "episodes_per_update = 10\n",
    "# max_steps = 1_000_000  # 100_000 for the Gridworld\n",
    "max_steps = 100_000  # 1_000_000 for the Pendulum\n",
    "baselines = [\"none\", \"mean_return\", \"min_variance\"]\n",
    "n_seeds = 10\n",
    "results_exp_ret = np.zeros((\n",
    "    len(baselines),\n",
    "    n_seeds,\n",
    "    max_steps,\n",
    "))\n",
    "\n",
    "fig, axs = plt.subplots(1, 1)\n",
    "axs.set_prop_cycle(color=[\"red\", \"green\", \"blue\"])\n",
    "axs.set_xlabel(\"Steps\")\n",
    "axs.set_ylabel(\"Expected Return\")\n",
    "\n",
    "for i, baseline in enumerate(baselines):\n",
    "    for seed in range(n_seeds):\n",
    "        np.random.seed(seed)\n",
    "        exp_return_history = reinforce(baseline)\n",
    "        results_exp_ret[i, seed] = exp_return_history\n",
    "        print(f\"Baseline: {baseline}, Seed: {seed}\")\n",
    "\n",
    "    plot_args = dict(\n",
    "        stepsize=1,\n",
    "        smoothing_window=20,\n",
    "        label=baseline,\n",
    "    )\n",
    "    error_shade_plot(\n",
    "        axs,\n",
    "        results_exp_ret[i],\n",
    "        **plot_args,\n",
    "    )\n",
    "    axs.legend()\n",
    "\n",
    "plt.show()\n"
   ]
  },
  {
   "cell_type": "code",
   "execution_count": 9,
   "metadata": {},
   "outputs": [
    {
     "name": "stderr",
     "output_type": "stream",
     "text": [
      "/Users/lucruz/Documents/GitHub/gym_gridworlds/.venv/lib/python3.11/site-packages/gymnasium/utils/passive_env_checker.py:158: UserWarning: \u001b[33mWARN: The obs returned by the `step()` method is not within the observation space.\u001b[0m\n",
      "  logger.warn(f\"{pre} is not within the observation space.\")\n",
      "/Users/lucruz/Documents/GitHub/gym_gridworlds/.venv/lib/python3.11/site-packages/gymnasium/utils/passive_env_checker.py:245: UserWarning: \u001b[33mWARN: The reward returned by `step()` must be a float, int, np.integer or np.floating, actual type: <class 'numpy.ndarray'>\u001b[0m\n",
      "  logger.warn(\n",
      "/var/folders/sd/s3_0xg3x0tlfrc5189jz9r100000gp/T/ipykernel_50035/2748346320.py:33: DeprecationWarning: Conversion of an array with ndim > 0 to a scalar is deprecated, and will error in future. Ensure you extract a single element from your array before performing this operation. (Deprecated NumPy 1.25.)\n",
      "  G[e] += gamma**t * r\n"
     ]
    },
    {
     "data": {
      "application/vnd.jupyter.widget-view+json": {
       "model_id": "6478810575584b6ca4774ae21bc91a9f",
       "version_major": 2,
       "version_minor": 0
      },
      "text/plain": [
       "  0%|          | 0/1000000 [00:00<?, ?it/s]"
      ]
     },
     "metadata": {},
     "output_type": "display_data"
    },
    {
     "name": "stdout",
     "output_type": "stream",
     "text": [
      "Baseline: none, Seed: 0\n"
     ]
    },
    {
     "data": {
      "application/vnd.jupyter.widget-view+json": {
       "model_id": "d11ad995907443e6be0565519b5362da",
       "version_major": 2,
       "version_minor": 0
      },
      "text/plain": [
       "  0%|          | 0/1000000 [00:00<?, ?it/s]"
      ]
     },
     "metadata": {},
     "output_type": "display_data"
    },
    {
     "name": "stdout",
     "output_type": "stream",
     "text": [
      "Baseline: none, Seed: 1\n"
     ]
    },
    {
     "data": {
      "application/vnd.jupyter.widget-view+json": {
       "model_id": "83c241142a8d499283b02a1619567b2d",
       "version_major": 2,
       "version_minor": 0
      },
      "text/plain": [
       "  0%|          | 0/1000000 [00:00<?, ?it/s]"
      ]
     },
     "metadata": {},
     "output_type": "display_data"
    },
    {
     "name": "stdout",
     "output_type": "stream",
     "text": [
      "Baseline: none, Seed: 2\n"
     ]
    },
    {
     "data": {
      "application/vnd.jupyter.widget-view+json": {
       "model_id": "5fb15ee5cc2144978d6fd7b9a5d98f99",
       "version_major": 2,
       "version_minor": 0
      },
      "text/plain": [
       "  0%|          | 0/1000000 [00:00<?, ?it/s]"
      ]
     },
     "metadata": {},
     "output_type": "display_data"
    },
    {
     "name": "stdout",
     "output_type": "stream",
     "text": [
      "Baseline: none, Seed: 3\n"
     ]
    },
    {
     "data": {
      "application/vnd.jupyter.widget-view+json": {
       "model_id": "f4770508a09841c5a75be727087a6ce7",
       "version_major": 2,
       "version_minor": 0
      },
      "text/plain": [
       "  0%|          | 0/1000000 [00:00<?, ?it/s]"
      ]
     },
     "metadata": {},
     "output_type": "display_data"
    },
    {
     "name": "stdout",
     "output_type": "stream",
     "text": [
      "Baseline: none, Seed: 4\n"
     ]
    },
    {
     "data": {
      "application/vnd.jupyter.widget-view+json": {
       "model_id": "5b0237d7d5fe4f0fa44d00f2de165f43",
       "version_major": 2,
       "version_minor": 0
      },
      "text/plain": [
       "  0%|          | 0/1000000 [00:00<?, ?it/s]"
      ]
     },
     "metadata": {},
     "output_type": "display_data"
    },
    {
     "name": "stdout",
     "output_type": "stream",
     "text": [
      "Baseline: none, Seed: 5\n"
     ]
    },
    {
     "data": {
      "application/vnd.jupyter.widget-view+json": {
       "model_id": "67e6e0c3d8f14939ac2a5045afa3eb13",
       "version_major": 2,
       "version_minor": 0
      },
      "text/plain": [
       "  0%|          | 0/1000000 [00:00<?, ?it/s]"
      ]
     },
     "metadata": {},
     "output_type": "display_data"
    },
    {
     "name": "stdout",
     "output_type": "stream",
     "text": [
      "Baseline: none, Seed: 6\n"
     ]
    },
    {
     "data": {
      "application/vnd.jupyter.widget-view+json": {
       "model_id": "461650e1682345f0aa1e2b432d9fc095",
       "version_major": 2,
       "version_minor": 0
      },
      "text/plain": [
       "  0%|          | 0/1000000 [00:00<?, ?it/s]"
      ]
     },
     "metadata": {},
     "output_type": "display_data"
    },
    {
     "name": "stdout",
     "output_type": "stream",
     "text": [
      "Baseline: none, Seed: 7\n"
     ]
    },
    {
     "data": {
      "application/vnd.jupyter.widget-view+json": {
       "model_id": "8e869ac851854c04aadaf6bd750de600",
       "version_major": 2,
       "version_minor": 0
      },
      "text/plain": [
       "  0%|          | 0/1000000 [00:00<?, ?it/s]"
      ]
     },
     "metadata": {},
     "output_type": "display_data"
    },
    {
     "name": "stdout",
     "output_type": "stream",
     "text": [
      "Baseline: none, Seed: 8\n"
     ]
    },
    {
     "data": {
      "application/vnd.jupyter.widget-view+json": {
       "model_id": "08a4e2df70c641e9931489ca80fa083b",
       "version_major": 2,
       "version_minor": 0
      },
      "text/plain": [
       "  0%|          | 0/1000000 [00:00<?, ?it/s]"
      ]
     },
     "metadata": {},
     "output_type": "display_data"
    },
    {
     "name": "stdout",
     "output_type": "stream",
     "text": [
      "Baseline: none, Seed: 9\n"
     ]
    },
    {
     "data": {
      "application/vnd.jupyter.widget-view+json": {
       "model_id": "e327203aa23e4ad1856907f8238a7f33",
       "version_major": 2,
       "version_minor": 0
      },
      "text/plain": [
       "  0%|          | 0/1000000 [00:00<?, ?it/s]"
      ]
     },
     "metadata": {},
     "output_type": "display_data"
    },
    {
     "name": "stdout",
     "output_type": "stream",
     "text": [
      "Baseline: mean_return, Seed: 0\n"
     ]
    },
    {
     "data": {
      "application/vnd.jupyter.widget-view+json": {
       "model_id": "36aa634c577d4d108ef443c0cfe01c31",
       "version_major": 2,
       "version_minor": 0
      },
      "text/plain": [
       "  0%|          | 0/1000000 [00:00<?, ?it/s]"
      ]
     },
     "metadata": {},
     "output_type": "display_data"
    },
    {
     "name": "stdout",
     "output_type": "stream",
     "text": [
      "Baseline: mean_return, Seed: 1\n"
     ]
    },
    {
     "data": {
      "application/vnd.jupyter.widget-view+json": {
       "model_id": "1aa82354f5414752bae86641c37415a9",
       "version_major": 2,
       "version_minor": 0
      },
      "text/plain": [
       "  0%|          | 0/1000000 [00:00<?, ?it/s]"
      ]
     },
     "metadata": {},
     "output_type": "display_data"
    },
    {
     "name": "stdout",
     "output_type": "stream",
     "text": [
      "Baseline: mean_return, Seed: 2\n"
     ]
    },
    {
     "data": {
      "application/vnd.jupyter.widget-view+json": {
       "model_id": "8f0bd098cc3a4ab7850ab6ff6deca8b5",
       "version_major": 2,
       "version_minor": 0
      },
      "text/plain": [
       "  0%|          | 0/1000000 [00:00<?, ?it/s]"
      ]
     },
     "metadata": {},
     "output_type": "display_data"
    },
    {
     "name": "stdout",
     "output_type": "stream",
     "text": [
      "Baseline: mean_return, Seed: 3\n"
     ]
    },
    {
     "data": {
      "application/vnd.jupyter.widget-view+json": {
       "model_id": "94e75706d004449d840b09e03f360b01",
       "version_major": 2,
       "version_minor": 0
      },
      "text/plain": [
       "  0%|          | 0/1000000 [00:00<?, ?it/s]"
      ]
     },
     "metadata": {},
     "output_type": "display_data"
    },
    {
     "name": "stdout",
     "output_type": "stream",
     "text": [
      "Baseline: mean_return, Seed: 4\n"
     ]
    },
    {
     "data": {
      "application/vnd.jupyter.widget-view+json": {
       "model_id": "c03a597986d64d96bd34e8d3e92ce43a",
       "version_major": 2,
       "version_minor": 0
      },
      "text/plain": [
       "  0%|          | 0/1000000 [00:00<?, ?it/s]"
      ]
     },
     "metadata": {},
     "output_type": "display_data"
    },
    {
     "name": "stdout",
     "output_type": "stream",
     "text": [
      "Baseline: mean_return, Seed: 5\n"
     ]
    },
    {
     "data": {
      "application/vnd.jupyter.widget-view+json": {
       "model_id": "7fe445b074ec4599b773bac038aceb45",
       "version_major": 2,
       "version_minor": 0
      },
      "text/plain": [
       "  0%|          | 0/1000000 [00:00<?, ?it/s]"
      ]
     },
     "metadata": {},
     "output_type": "display_data"
    },
    {
     "name": "stdout",
     "output_type": "stream",
     "text": [
      "Baseline: mean_return, Seed: 6\n"
     ]
    },
    {
     "data": {
      "application/vnd.jupyter.widget-view+json": {
       "model_id": "05f0c9ae884245d9b8674c60588754ed",
       "version_major": 2,
       "version_minor": 0
      },
      "text/plain": [
       "  0%|          | 0/1000000 [00:00<?, ?it/s]"
      ]
     },
     "metadata": {},
     "output_type": "display_data"
    },
    {
     "name": "stdout",
     "output_type": "stream",
     "text": [
      "Baseline: mean_return, Seed: 7\n"
     ]
    },
    {
     "data": {
      "application/vnd.jupyter.widget-view+json": {
       "model_id": "846c5adbcba5485f972a538d9a48aaae",
       "version_major": 2,
       "version_minor": 0
      },
      "text/plain": [
       "  0%|          | 0/1000000 [00:00<?, ?it/s]"
      ]
     },
     "metadata": {},
     "output_type": "display_data"
    },
    {
     "name": "stdout",
     "output_type": "stream",
     "text": [
      "Baseline: mean_return, Seed: 8\n"
     ]
    },
    {
     "data": {
      "application/vnd.jupyter.widget-view+json": {
       "model_id": "34ea4cce5bb44bd59c73670f6c807457",
       "version_major": 2,
       "version_minor": 0
      },
      "text/plain": [
       "  0%|          | 0/1000000 [00:00<?, ?it/s]"
      ]
     },
     "metadata": {},
     "output_type": "display_data"
    },
    {
     "name": "stdout",
     "output_type": "stream",
     "text": [
      "Baseline: mean_return, Seed: 9\n"
     ]
    },
    {
     "data": {
      "application/vnd.jupyter.widget-view+json": {
       "model_id": "b50274403fa14b2daeef7f135ada38a0",
       "version_major": 2,
       "version_minor": 0
      },
      "text/plain": [
       "  0%|          | 0/1000000 [00:00<?, ?it/s]"
      ]
     },
     "metadata": {},
     "output_type": "display_data"
    },
    {
     "name": "stdout",
     "output_type": "stream",
     "text": [
      "Baseline: min_variance, Seed: 0\n"
     ]
    },
    {
     "data": {
      "application/vnd.jupyter.widget-view+json": {
       "model_id": "d8627eb49006415e9d70ebbcda15aa4a",
       "version_major": 2,
       "version_minor": 0
      },
      "text/plain": [
       "  0%|          | 0/1000000 [00:00<?, ?it/s]"
      ]
     },
     "metadata": {},
     "output_type": "display_data"
    },
    {
     "name": "stdout",
     "output_type": "stream",
     "text": [
      "Baseline: min_variance, Seed: 1\n"
     ]
    },
    {
     "data": {
      "application/vnd.jupyter.widget-view+json": {
       "model_id": "7cf817f2e36e4c96bb0b6a7633bdf197",
       "version_major": 2,
       "version_minor": 0
      },
      "text/plain": [
       "  0%|          | 0/1000000 [00:00<?, ?it/s]"
      ]
     },
     "metadata": {},
     "output_type": "display_data"
    },
    {
     "name": "stdout",
     "output_type": "stream",
     "text": [
      "Baseline: min_variance, Seed: 2\n"
     ]
    },
    {
     "data": {
      "application/vnd.jupyter.widget-view+json": {
       "model_id": "c7d82b1c3a994377949eb49a151f8b1e",
       "version_major": 2,
       "version_minor": 0
      },
      "text/plain": [
       "  0%|          | 0/1000000 [00:00<?, ?it/s]"
      ]
     },
     "metadata": {},
     "output_type": "display_data"
    },
    {
     "name": "stdout",
     "output_type": "stream",
     "text": [
      "Baseline: min_variance, Seed: 3\n"
     ]
    },
    {
     "data": {
      "application/vnd.jupyter.widget-view+json": {
       "model_id": "a3cb4581be984570b0ca1aa0af8c0447",
       "version_major": 2,
       "version_minor": 0
      },
      "text/plain": [
       "  0%|          | 0/1000000 [00:00<?, ?it/s]"
      ]
     },
     "metadata": {},
     "output_type": "display_data"
    },
    {
     "name": "stdout",
     "output_type": "stream",
     "text": [
      "Baseline: min_variance, Seed: 4\n"
     ]
    },
    {
     "data": {
      "application/vnd.jupyter.widget-view+json": {
       "model_id": "c8795cd941eb4163921358d2ad714bcf",
       "version_major": 2,
       "version_minor": 0
      },
      "text/plain": [
       "  0%|          | 0/1000000 [00:00<?, ?it/s]"
      ]
     },
     "metadata": {},
     "output_type": "display_data"
    },
    {
     "name": "stdout",
     "output_type": "stream",
     "text": [
      "Baseline: min_variance, Seed: 5\n"
     ]
    },
    {
     "data": {
      "application/vnd.jupyter.widget-view+json": {
       "model_id": "f7c2c38eb9fd47f08f088026c4d1799e",
       "version_major": 2,
       "version_minor": 0
      },
      "text/plain": [
       "  0%|          | 0/1000000 [00:00<?, ?it/s]"
      ]
     },
     "metadata": {},
     "output_type": "display_data"
    },
    {
     "name": "stdout",
     "output_type": "stream",
     "text": [
      "Baseline: min_variance, Seed: 6\n"
     ]
    },
    {
     "data": {
      "application/vnd.jupyter.widget-view+json": {
       "model_id": "ec764b26c1ee4a74beb29686074ffb8e",
       "version_major": 2,
       "version_minor": 0
      },
      "text/plain": [
       "  0%|          | 0/1000000 [00:00<?, ?it/s]"
      ]
     },
     "metadata": {},
     "output_type": "display_data"
    },
    {
     "name": "stdout",
     "output_type": "stream",
     "text": [
      "Baseline: min_variance, Seed: 7\n"
     ]
    },
    {
     "data": {
      "application/vnd.jupyter.widget-view+json": {
       "model_id": "6b328455ba0e49f19dc09b4d98969be2",
       "version_major": 2,
       "version_minor": 0
      },
      "text/plain": [
       "  0%|          | 0/1000000 [00:00<?, ?it/s]"
      ]
     },
     "metadata": {},
     "output_type": "display_data"
    },
    {
     "name": "stdout",
     "output_type": "stream",
     "text": [
      "Baseline: min_variance, Seed: 8\n"
     ]
    },
    {
     "data": {
      "application/vnd.jupyter.widget-view+json": {
       "model_id": "763b7581551d41819fc5a6f01c8b1299",
       "version_major": 2,
       "version_minor": 0
      },
      "text/plain": [
       "  0%|          | 0/1000000 [00:00<?, ?it/s]"
      ]
     },
     "metadata": {},
     "output_type": "display_data"
    },
    {
     "name": "stdout",
     "output_type": "stream",
     "text": [
      "Baseline: min_variance, Seed: 9\n"
     ]
    },
    {
     "data": {
      "image/png": "[encoded data removed]",
      "text/plain": [
       "<Figure size 640x480 with 1 Axes>"
      ]
     },
     "metadata": {},
     "output_type": "display_data"
    }
   ],
   "source": [
    "import gymnasium\n",
    "import gym_gridworlds\n",
    "import numpy as np\n",
    "import matplotlib.pyplot as plt\n",
    "from tqdm.auto import tqdm\n",
    "\n",
    "np.set_printoptions(precision=3, suppress=True)\n",
    "\n",
    "# https://en.wikipedia.org/wiki/Pairing_function\n",
    "def cantor_pairing(x, y):\n",
    "    return int(0.5 * (x + y) * (x + y + 1) + y)\n",
    "\n",
    "def rbf_features(x: np.array, c: np.array, s: np.array) -> np.array:\n",
    "    return np.exp(-(((x[:, None] - c[None]) / s[None])**2).sum(-1) / 2.0)\n",
    "\n",
    "def expected_return(env, weights, gamma, episodes=100):\n",
    "    G = np.zeros(episodes)\n",
    "    for e in range(episodes):\n",
    "        s, _ = env.reset(seed=e)\n",
    "        done = False\n",
    "        t = 0\n",
    "        while not done:\n",
    "            phi = get_phi(s)\n",
    "            if env_id == \"Pendulum-v1\":\n",
    "                a = np.dot(phi, weights)\n",
    "                a_clip = np.clip(a, env.action_space.low, env.action_space.high)\n",
    "                s_next, r, terminated, truncated, _ = env.step(a_clip)\n",
    "            else:\n",
    "                q = np.dot(phi, weights).ravel() # no need for the eps_greedy_action func since eps=0\n",
    "                ties = np.argwhere(q == q.max())\n",
    "                i = np.random.choice(range(ties.shape[0]))\n",
    "                a = ties[i][0]\n",
    "                s_next, r, terminated, truncated, _ = env.step(a)\n",
    "            done = terminated or truncated\n",
    "            G[e] += gamma**t * r\n",
    "            s = s_next\n",
    "            t += 1\n",
    "    return G.mean()\n",
    "\n",
    "def collect_data(env, weights, sigma, n_episodes):\n",
    "    data = dict()\n",
    "    data[\"phi\"] = []\n",
    "    data[\"a\"] = []\n",
    "    data[\"r\"] = []\n",
    "    data[\"done\"] = []\n",
    "    for ep in range(n_episodes):\n",
    "        episode_seed = cantor_pairing(ep, seed)\n",
    "        s, _ = env.reset(seed=episode_seed)\n",
    "        done = False\n",
    "        while not done:\n",
    "            phi = get_phi(s)\n",
    "            if env_id == \"Pendulum-v1\":\n",
    "                a = gaussian_action(phi, weights, sigma)\n",
    "                a_clip = np.clip(a, env.action_space.low, env.action_space.high)\n",
    "                s_next, r, terminated, truncated, _ = env.step(a_clip)\n",
    "            else:\n",
    "                a = softmax_action(phi, weights, eps=1)\n",
    "                s_next, r, terminated, truncated, _ = env.step(a)\n",
    "            done = terminated or truncated\n",
    "            data[\"phi\"].append(phi)\n",
    "            data[\"a\"].append(a)\n",
    "            data[\"r\"].append(r)\n",
    "            data[\"done\"].append(done)\n",
    "            s = s_next\n",
    "    return data\n",
    "\n",
    "def softmax_probs(phi, weights, eps):\n",
    "    q = np.dot(phi, weights)\n",
    "    # this is a trick to make it more stable\n",
    "    # see https://timvieira.github.io/blog/post/2014/02/11/exp-normalize-trick/\n",
    "    q_exp = np.exp((q - np.max(q, -1, keepdims=True)) / max(eps, 1e-12))\n",
    "    probs = q_exp / q_exp.sum(-1, keepdims=True)\n",
    "    return probs\n",
    "\n",
    "def softmax_action(phi, weights, eps):\n",
    "    probs = softmax_probs(phi, weights, eps)\n",
    "    return np.random.choice(probs.shape[1], p=probs.ravel())\n",
    "\n",
    "def dlog_softmax_probs(phi, weights, eps, act):\n",
    "    q = np.dot(phi, weights)\n",
    "    q_exp = np.exp((q - np.max(q, -1, keepdims=True)) / max(eps, 1e-12))\n",
    "    probs = q_exp / q_exp.sum(-1, keepdims=True)\n",
    "    one_hot = np.zeros_like(probs)\n",
    "    one_hot[0, act] = 1\n",
    "    grad = (1 / eps) * phi.T @ (one_hot - probs)\n",
    "    return grad.flatten()\n",
    "\n",
    "def gaussian_action(phi, weights, sigma):\n",
    "    mu = np.dot(phi, weights)\n",
    "    a = np.random.normal(mu, sigma**2)\n",
    "    return a\n",
    "\n",
    "def dlog_gaussian_probs(phi, weights, sigma, action):\n",
    "    mu = np.dot(phi, weights)\n",
    "    diff = action - mu\n",
    "    grad = (diff / sigma**2) * phi.T\n",
    "    return grad.flatten()\n",
    "\n",
    "def reinforce(baseline=\"none\"):\n",
    "    weights = np.zeros((phi_dummy.shape[1], action_dim))\n",
    "    sigma = 2.0  # for Gaussian\n",
    "    eps = 1.0  # softmax temperature, DO NOT DECAY\n",
    "    tot_steps = 0\n",
    "    exp_return_history = np.zeros(max_steps)\n",
    "    exp_return = expected_return(env_eval, weights, gamma, episodes_eval)\n",
    "    pbar = tqdm(total=max_steps)\n",
    "\n",
    "    while tot_steps < max_steps:\n",
    "        # Collect data\n",
    "        data = collect_data(env, weights, sigma, episodes_per_update)\n",
    "        phi = np.vstack(data[\"phi\"])\n",
    "        actions = np.vstack(data[\"a\"])\n",
    "        rewards = np.vstack(data[\"r\"]).ravel()\n",
    "        dones = np.vstack(data[\"done\"]).ravel()\n",
    "        T = len(rewards)\n",
    "\n",
    "        # Compute MC returns\n",
    "        G = np.zeros_like(rewards)\n",
    "        G_t = 0\n",
    "        for t in reversed(range(T)):\n",
    "            if dones[t]:\n",
    "                G_t = 0\n",
    "            G_t = rewards[t] + gamma * G_t\n",
    "            G[t] = G_t\n",
    "\n",
    "        # compute gradients\n",
    "        grads = []\n",
    "        dlog_pi_norms_sq = []\n",
    "        for t in range(T):\n",
    "            if env_id == \"Pendulum-v1\":\n",
    "                dlog_pi = dlog_gaussian_probs(phi[t:t+1], weights, sigma, actions[t])\n",
    "            else:\n",
    "                dlog_pi = dlog_softmax_probs(phi[t:t+1], weights, eps, int(actions[t]))\n",
    "            grads.append(dlog_pi)\n",
    "            dlog_pi_norms_sq.append(np.sum(dlog_pi ** 2))\n",
    "        grads = np.array(grads)\n",
    "        dlog_pi_norms_sq = np.array(dlog_pi_norms_sq)\n",
    "\n",
    "        if baseline == \"none\":\n",
    "            b = 0\n",
    "        elif baseline == \"mean_return\":\n",
    "            b = np.mean(G)\n",
    "        elif baseline == \"min_variance\":\n",
    "            numerator = np.sum(dlog_pi_norms_sq * G)\n",
    "            denominator = np.sum(dlog_pi_norms_sq)\n",
    "            b = numerator / (denominator + 1e-8)\n",
    "        else:\n",
    "            raise ValueError(\"Unknown baseline type\")\n",
    "\n",
    "        A = G - b\n",
    "\n",
    "        gradient = grads * A[:, None]\n",
    "\n",
    "        # average gradient over all samples\n",
    "        grad_mean = gradient.mean(axis=0)\n",
    "\n",
    "        # Update weights\n",
    "        weights += alpha * grad_mean.reshape(weights.shape)\n",
    "\n",
    "        exp_return_history[tot_steps : tot_steps + T] = exp_return\n",
    "\n",
    "        tot_steps += T\n",
    "        exp_return = expected_return(env_eval, weights, gamma, episodes_eval)\n",
    "        sigma = max(sigma - T / max_steps, 0.1)\n",
    "\n",
    "        pbar.set_description(f\"G: {exp_return:.3f}\")\n",
    "        pbar.update(T)\n",
    "\n",
    "    pbar.close()\n",
    "    return exp_return_history\n",
    "\n",
    "# https://stackoverflow.com/a/63458548/754136\n",
    "def smooth(arr, span):\n",
    "    re = np.convolve(arr, np.ones(span * 2 + 1) / (span * 2 + 1), mode=\"same\")\n",
    "    re[0] = arr[0]\n",
    "    for i in range(1, span + 1):\n",
    "        re[i] = np.average(arr[: i + span])\n",
    "        re[-i] = np.average(arr[-i - span :])\n",
    "    return re\n",
    "\n",
    "def error_shade_plot(ax, data, stepsize, smoothing_window=1, **kwargs):\n",
    "    y = np.nanmean(data, 0)\n",
    "    x = np.arange(len(y))\n",
    "    x = [stepsize * step for step in range(len(y))]\n",
    "    if smoothing_window > 1:\n",
    "        y = smooth(y, smoothing_window)\n",
    "    (line,) = ax.plot(x, y, **kwargs)\n",
    "    error = np.nanstd(data, axis=0)\n",
    "    if smoothing_window > 1:\n",
    "        error = smooth(error, smoothing_window)\n",
    "    error = 1.96 * error / np.sqrt(data.shape[0])\n",
    "    ax.fill_between(x, y - error, y + error, alpha=0.2, linewidth=0.0, color=line.get_color())\n",
    "\n",
    "# Select the environment\n",
    "env_id = \"Pendulum-v1\"\n",
    "env = gymnasium.make(env_id)\n",
    "env_eval = gymnasium.make(env_id)\n",
    "episodes_eval = 100\n",
    "# You'll solve the Pendulum when the empirical expected return is higher than -150\n",
    "# But it can get even higher, e.g., -120\n",
    "state_dim = env.observation_space.shape[0]\n",
    "action_dim = env.action_space.shape[0]\n",
    "\n",
    "# UNCOMMENT TO SOLVE THE GRIDWORLD\n",
    "# env_id = \"Gym-Gridworlds/Penalty-3x3-v0\"\n",
    "# env = gymnasium.make(env_id, coordinate_observation=True, max_episode_steps=10000)\n",
    "# env_eval = gymnasium.make(env_id, coordinate_observation=True, max_episode_steps=10)  # 10 steps only for faster eval\n",
    "# episodes_eval = 1  # Max expected return will be 0.941\n",
    "# state_dim = env.observation_space.shape[0]\n",
    "# action_dim = env.action_space.n\n",
    "\n",
    "# Automatically set centers and sigmas\n",
    "n_centers = [7] * state_dim\n",
    "state_low = env.observation_space.low\n",
    "state_high = env.observation_space.high\n",
    "centers = np.array(\n",
    "    np.meshgrid(*[\n",
    "        np.linspace(\n",
    "            state_low[i] - (state_high[i] - state_low[i]) / n_centers[i] * 0.1,\n",
    "            state_high[i] + (state_high[i] - state_low[i]) / n_centers[i] * 0.1,\n",
    "            n_centers[i],\n",
    "        )\n",
    "        for i in range(state_dim)\n",
    "    ])\n",
    ").reshape(state_dim, -1).T\n",
    "sigmas = (state_high - state_low) / np.asarray(n_centers) * 0.75 + 1e-8  # Change sigmas for more/less generalization\n",
    "get_phi = lambda state : rbf_features(state.reshape(-1, state_dim), centers, sigmas)  # Reshape because feature functions expect shape (N, S)\n",
    "phi_dummy = get_phi(env.reset()[0])  # To get the number of features\n",
    "\n",
    "# Hyperparameters\n",
    "gamma = 0.99\n",
    "alpha = 0.1\n",
    "episodes_per_update = 10\n",
    "max_steps = 1_000_000  # 100_000 for the Gridworld\n",
    "# max_steps = 100_000  # 1_000_000 for the Pendulum\n",
    "baselines = [\"none\", \"mean_return\", \"min_variance\"]\n",
    "n_seeds = 10\n",
    "results_exp_ret = np.zeros((\n",
    "    len(baselines),\n",
    "    n_seeds,\n",
    "    max_steps,\n",
    "))\n",
    "\n",
    "fig, axs = plt.subplots(1, 1)\n",
    "axs.set_prop_cycle(color=[\"red\", \"green\", \"blue\"])\n",
    "axs.set_xlabel(\"Steps\")\n",
    "axs.set_ylabel(\"Expected Return\")\n",
    "\n",
    "for i, baseline in enumerate(baselines):\n",
    "    for seed in range(n_seeds):\n",
    "        np.random.seed(seed)\n",
    "        exp_return_history = reinforce(baseline)\n",
    "        results_exp_ret[i, seed] = exp_return_history\n",
    "        print(f\"Baseline: {baseline}, Seed: {seed}\")\n",
    "\n",
    "    plot_args = dict(\n",
    "        stepsize=1,\n",
    "        smoothing_window=20,\n",
    "        label=baseline,\n",
    "    )\n",
    "    error_shade_plot(\n",
    "        axs,\n",
    "        results_exp_ret[i],\n",
    "        **plot_args,\n",
    "    )\n",
    "    axs.legend()\n",
    "\n",
    "plt.show()"
   ]
  },
  {
   "cell_type": "code",
   "execution_count": null,
   "metadata": {},
   "outputs": [],
   "source": []
  }
 ],
 "metadata": {
  "kernelspec": {
   "display_name": ".venv",
   "language": "python",
   "name": "python3"
  },
  "language_info": {
   "codemirror_mode": {
    "name": "ipython",
    "version": 3
   },
   "file_extension": ".py",
   "mimetype": "text/x-python",
   "name": "python",
   "nbconvert_exporter": "python",
   "pygments_lexer": "ipython3",
   "version": "3.11.9"
  }
 },
 "nbformat": 4,
 "nbformat_minor": 2
}
